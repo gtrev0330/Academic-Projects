{
 "cells": [
  {
   "cell_type": "markdown",
   "id": "fb0ba0b5",
   "metadata": {},
   "source": [
    "# Background"
   ]
  },
  {
   "cell_type": "markdown",
   "id": "a2f5b750",
   "metadata": {},
   "source": [
    "An online news portal aims to expand its business by acquiring new subscribers. Every visitor to the website takes certain actions based on their interest. The company plans to analyze these interests and wants to determine whether a new feature will be effective or not. Companies often analyze users' responses to two variants of a product to decide which of the two variants is more effective. This experimental technique is known as a/b testing that is used to determine whether a new feature attracts users based on a chosen metric.\n",
    "\n",
    "Suppose you are hired as a Data Scientist in E-news Express. The design team of the company has created a new landing page. You have been assigned the task to decide whether the new landing page is more effective to gather new subscribers. Suppose you randomly selected 100 users and divided them equally into two groups. The old landing page is served to the first group (control group) and the new landing page is served to the second group (treatment group). Various data about the customers in both groups are collected in 'abtest.csv'. Perform the statistical analysis to answer the following questions using the collected data."
   ]
  },
  {
   "cell_type": "markdown",
   "id": "cd2b496d",
   "metadata": {},
   "source": [
    "# Objective"
   ]
  },
  {
   "cell_type": "markdown",
   "id": "c900051d",
   "metadata": {},
   "source": [
    "Statistical analysis of business data. Explore the dataset and extract insights from the data. The idea is for you to get comfortable with doing statistical analysis in Python.\n",
    "\n",
    "You are expected to perform the statistical analysis to answer the following questions:\n",
    "\n",
    "1. Explore the dataset and extract insights using Exploratory Data Analysis.\n",
    "2. Do the users spend more time on the new landing page than the old landing page?\n",
    "3. Is the conversion rate (the proportion of users who visit the landing page and get converted) for the new page greater than the conversion rate for the old page?\n",
    "4. Does the converted status depend on the preferred language? [Hint: Create a contingency table using the pandas.crosstab() function]\n",
    "5. Is the mean time spent on the new page same for the different language users?\n",
    "*Consider a significance level of 0.05 for all tests."
   ]
  },
  {
   "cell_type": "markdown",
   "id": "a722452c",
   "metadata": {},
   "source": [
    "# Data Dictionary"
   ]
  },
  {
   "cell_type": "markdown",
   "id": "6945f263",
   "metadata": {},
   "source": [
    "1. user_id - This represents the user ID of the person visiting the website.\n",
    "2. group - This represents whether the user belongs to the first group (control) or the second group (treatment).\n",
    "3. landing_page - This represents whether the landing page is new or old.\n",
    "4. time_spent_on_the_page - This represents the time (in minutes) spent by the user on the landing page.\n",
    "5. converted - This represents whether the user gets converted to a subscriber of the news portal or not.\n",
    "6. language_preferred - This represents the language chosen by the user to view the landing page."
   ]
  },
  {
   "cell_type": "code",
   "execution_count": 1,
   "id": "5c6daeef",
   "metadata": {},
   "outputs": [
    {
     "name": "stdout",
     "output_type": "stream",
     "text": [
      "Requirement already satisfied: scipy==1.6.1 in c:\\users\\gtrev\\anaconda3\\lib\\site-packages (1.6.1)\n",
      "Requirement already satisfied: numpy>=1.16.5 in c:\\users\\gtrev\\anaconda3\\lib\\site-packages (from scipy==1.6.1) (1.20.1)\n"
     ]
    }
   ],
   "source": [
    "# install the scipy version 1.6.1. and restart the kernel after the successful installation\n",
    "!pip install scipy==1.6.1"
   ]
  },
  {
   "cell_type": "code",
   "execution_count": 2,
   "id": "e01437eb",
   "metadata": {},
   "outputs": [
    {
     "data": {
      "text/plain": [
       "'1.6.1'"
      ]
     },
     "execution_count": 2,
     "metadata": {},
     "output_type": "execute_result"
    }
   ],
   "source": [
    "# import the scipy and check the version to be sure that the version is 1.6.1.\n",
    "import scipy\n",
    "scipy.__version__"
   ]
  },
  {
   "cell_type": "code",
   "execution_count": 3,
   "id": "122b9232",
   "metadata": {},
   "outputs": [],
   "source": [
    "#import the important packages\n",
    "import pandas as pd #library used for data manipulation and analysis\n",
    "import numpy as np # library used for working with arrays.\n",
    "import matplotlib.pyplot as plt # library for plots and visualisations\n",
    "import seaborn as sns # library for visualisations\n",
    "%matplotlib inline \n",
    "\n",
    "import scipy.stats as stats # this library contains a large number of probability distributions as well as a growing library of statistical functions."
   ]
  },
  {
   "cell_type": "code",
   "execution_count": 4,
   "id": "aec3759b",
   "metadata": {},
   "outputs": [],
   "source": [
    "ab= pd.read_csv('abtest.csv') #importing the dataset"
   ]
  },
  {
   "cell_type": "code",
   "execution_count": 5,
   "id": "40ea8176",
   "metadata": {},
   "outputs": [
    {
     "data": {
      "text/html": [
       "<div>\n",
       "<style scoped>\n",
       "    .dataframe tbody tr th:only-of-type {\n",
       "        vertical-align: middle;\n",
       "    }\n",
       "\n",
       "    .dataframe tbody tr th {\n",
       "        vertical-align: top;\n",
       "    }\n",
       "\n",
       "    .dataframe thead th {\n",
       "        text-align: right;\n",
       "    }\n",
       "</style>\n",
       "<table border=\"1\" class=\"dataframe\">\n",
       "  <thead>\n",
       "    <tr style=\"text-align: right;\">\n",
       "      <th></th>\n",
       "      <th>user_id</th>\n",
       "      <th>group</th>\n",
       "      <th>landing_page</th>\n",
       "      <th>time_spent_on_the_page</th>\n",
       "      <th>converted</th>\n",
       "      <th>language_preferred</th>\n",
       "    </tr>\n",
       "  </thead>\n",
       "  <tbody>\n",
       "    <tr>\n",
       "      <th>0</th>\n",
       "      <td>546592</td>\n",
       "      <td>control</td>\n",
       "      <td>old</td>\n",
       "      <td>3.48</td>\n",
       "      <td>no</td>\n",
       "      <td>Spanish</td>\n",
       "    </tr>\n",
       "    <tr>\n",
       "      <th>1</th>\n",
       "      <td>546468</td>\n",
       "      <td>treatment</td>\n",
       "      <td>new</td>\n",
       "      <td>7.13</td>\n",
       "      <td>yes</td>\n",
       "      <td>English</td>\n",
       "    </tr>\n",
       "    <tr>\n",
       "      <th>2</th>\n",
       "      <td>546462</td>\n",
       "      <td>treatment</td>\n",
       "      <td>new</td>\n",
       "      <td>4.40</td>\n",
       "      <td>no</td>\n",
       "      <td>Spanish</td>\n",
       "    </tr>\n",
       "    <tr>\n",
       "      <th>3</th>\n",
       "      <td>546567</td>\n",
       "      <td>control</td>\n",
       "      <td>old</td>\n",
       "      <td>3.02</td>\n",
       "      <td>no</td>\n",
       "      <td>French</td>\n",
       "    </tr>\n",
       "    <tr>\n",
       "      <th>4</th>\n",
       "      <td>546459</td>\n",
       "      <td>treatment</td>\n",
       "      <td>new</td>\n",
       "      <td>4.75</td>\n",
       "      <td>yes</td>\n",
       "      <td>Spanish</td>\n",
       "    </tr>\n",
       "  </tbody>\n",
       "</table>\n",
       "</div>"
      ],
      "text/plain": [
       "   user_id      group landing_page  time_spent_on_the_page converted  \\\n",
       "0   546592    control          old                    3.48        no   \n",
       "1   546468  treatment          new                    7.13       yes   \n",
       "2   546462  treatment          new                    4.40        no   \n",
       "3   546567    control          old                    3.02        no   \n",
       "4   546459  treatment          new                    4.75       yes   \n",
       "\n",
       "  language_preferred  \n",
       "0            Spanish  \n",
       "1            English  \n",
       "2            Spanish  \n",
       "3             French  \n",
       "4            Spanish  "
      ]
     },
     "execution_count": 5,
     "metadata": {},
     "output_type": "execute_result"
    }
   ],
   "source": [
    "ab.head() #printing the first five rows"
   ]
  },
  {
   "cell_type": "markdown",
   "id": "06816708",
   "metadata": {},
   "source": [
    "There are 5 variables here. This dataset is showing us the difference between an old landing page and a new landing page. Half of the users get the old landing page and the other half use the new landing page. This dataset allows us to observe the differene in the time they spent on the page, whether or not the user converted, and what language they preferred. "
   ]
  },
  {
   "cell_type": "code",
   "execution_count": 6,
   "id": "2bc52359",
   "metadata": {},
   "outputs": [
    {
     "data": {
      "text/plain": [
       "(100, 6)"
      ]
     },
     "execution_count": 6,
     "metadata": {},
     "output_type": "execute_result"
    }
   ],
   "source": [
    "ab.shape #code to get the shape of the dataset"
   ]
  },
  {
   "cell_type": "markdown",
   "id": "2638be43",
   "metadata": {},
   "source": [
    "There are 100 rows and 6 columns"
   ]
  },
  {
   "cell_type": "code",
   "execution_count": 7,
   "id": "6472bfb4",
   "metadata": {},
   "outputs": [
    {
     "data": {
      "text/html": [
       "<div>\n",
       "<style scoped>\n",
       "    .dataframe tbody tr th:only-of-type {\n",
       "        vertical-align: middle;\n",
       "    }\n",
       "\n",
       "    .dataframe tbody tr th {\n",
       "        vertical-align: top;\n",
       "    }\n",
       "\n",
       "    .dataframe thead th {\n",
       "        text-align: right;\n",
       "    }\n",
       "</style>\n",
       "<table border=\"1\" class=\"dataframe\">\n",
       "  <thead>\n",
       "    <tr style=\"text-align: right;\">\n",
       "      <th></th>\n",
       "      <th>user_id</th>\n",
       "      <th>time_spent_on_the_page</th>\n",
       "    </tr>\n",
       "  </thead>\n",
       "  <tbody>\n",
       "    <tr>\n",
       "      <th>count</th>\n",
       "      <td>100.000000</td>\n",
       "      <td>100.000000</td>\n",
       "    </tr>\n",
       "    <tr>\n",
       "      <th>mean</th>\n",
       "      <td>546517.000000</td>\n",
       "      <td>5.377800</td>\n",
       "    </tr>\n",
       "    <tr>\n",
       "      <th>std</th>\n",
       "      <td>52.295779</td>\n",
       "      <td>2.378166</td>\n",
       "    </tr>\n",
       "    <tr>\n",
       "      <th>min</th>\n",
       "      <td>546443.000000</td>\n",
       "      <td>0.190000</td>\n",
       "    </tr>\n",
       "    <tr>\n",
       "      <th>25%</th>\n",
       "      <td>546467.750000</td>\n",
       "      <td>3.880000</td>\n",
       "    </tr>\n",
       "    <tr>\n",
       "      <th>50%</th>\n",
       "      <td>546492.500000</td>\n",
       "      <td>5.415000</td>\n",
       "    </tr>\n",
       "    <tr>\n",
       "      <th>75%</th>\n",
       "      <td>546567.250000</td>\n",
       "      <td>7.022500</td>\n",
       "    </tr>\n",
       "    <tr>\n",
       "      <th>max</th>\n",
       "      <td>546592.000000</td>\n",
       "      <td>10.710000</td>\n",
       "    </tr>\n",
       "  </tbody>\n",
       "</table>\n",
       "</div>"
      ],
      "text/plain": [
       "             user_id  time_spent_on_the_page\n",
       "count     100.000000              100.000000\n",
       "mean   546517.000000                5.377800\n",
       "std        52.295779                2.378166\n",
       "min    546443.000000                0.190000\n",
       "25%    546467.750000                3.880000\n",
       "50%    546492.500000                5.415000\n",
       "75%    546567.250000                7.022500\n",
       "max    546592.000000               10.710000"
      ]
     },
     "execution_count": 7,
     "metadata": {},
     "output_type": "execute_result"
    }
   ],
   "source": [
    "ab.describe() #this code shows us the summary statistics of this dataset"
   ]
  },
  {
   "cell_type": "markdown",
   "id": "6fe22236",
   "metadata": {},
   "source": [
    "The mean time spent on the page for all users in the dataset was 5.37 minutes, the median was 5.41, and the standard deviation was 2.38"
   ]
  },
  {
   "cell_type": "code",
   "execution_count": 8,
   "id": "fbf29bb5",
   "metadata": {},
   "outputs": [
    {
     "name": "stdout",
     "output_type": "stream",
     "text": [
      "<class 'pandas.core.frame.DataFrame'>\n",
      "RangeIndex: 100 entries, 0 to 99\n",
      "Data columns (total 6 columns):\n",
      " #   Column                  Non-Null Count  Dtype  \n",
      "---  ------                  --------------  -----  \n",
      " 0   user_id                 100 non-null    int64  \n",
      " 1   group                   100 non-null    object \n",
      " 2   landing_page            100 non-null    object \n",
      " 3   time_spent_on_the_page  100 non-null    float64\n",
      " 4   converted               100 non-null    object \n",
      " 5   language_preferred      100 non-null    object \n",
      "dtypes: float64(1), int64(1), object(4)\n",
      "memory usage: 4.8+ KB\n",
      "<class 'pandas.core.frame.DataFrame'>\n",
      "RangeIndex: 100 entries, 0 to 99\n",
      "Data columns (total 6 columns):\n",
      " #   Column                  Non-Null Count  Dtype   \n",
      "---  ------                  --------------  -----   \n",
      " 0   user_id                 100 non-null    int64   \n",
      " 1   group                   100 non-null    category\n",
      " 2   landing_page            100 non-null    category\n",
      " 3   time_spent_on_the_page  100 non-null    float64 \n",
      " 4   converted               100 non-null    category\n",
      " 5   language_preferred      100 non-null    category\n",
      "dtypes: category(4), float64(1), int64(1)\n",
      "memory usage: 2.6 KB\n"
     ]
    }
   ],
   "source": [
    "# coverting \"objects\" to \"category\" reduces the data space required to store the dataframe\n",
    "# write the code to convert 'group', 'landing_page', 'converted', 'language_preferred' into categorical variables\n",
    "\n",
    "# use info() to print a concise summary of the DataFrame\n",
    "ab.info()\n",
    "for col in ['group', 'landing_page', 'converted','language_preferred']:\n",
    "    ab[col]=ab[col].astype('category') #this code changed the type from object to catergory\n",
    "ab.info()"
   ]
  },
  {
   "cell_type": "markdown",
   "id": "c8db2d91",
   "metadata": {},
   "source": [
    "There is no missing data. \n",
    "\n",
    "The memory usage dropped \n",
    "\n",
    "We also changed the object variables into category variables so that we can perform EDA "
   ]
  },
  {
   "cell_type": "markdown",
   "id": "54df3232",
   "metadata": {},
   "source": [
    "# Univariate Analysis"
   ]
  },
  {
   "cell_type": "code",
   "execution_count": 9,
   "id": "8ffff416",
   "metadata": {},
   "outputs": [],
   "source": [
    "def histogram_boxplot(data, feature, figsize=(12, 7), kde=False, bins=None):\n",
    "    \"\"\"\n",
    "    Boxplot and histogram combined\n",
    "\n",
    "    data: dataframe\n",
    "    feature: dataframe column\n",
    "    figsize: size of figure (default (12,7))\n",
    "    kde: whether to show the density curve (default False)\n",
    "    bins: number of bins for histogram (default None)\n",
    "    \"\"\"\n",
    "    f2, (ax_box2, ax_hist2) = plt.subplots(\n",
    "        nrows=2,  # Number of rows of the subplot grid= 2\n",
    "        sharex=True,  # x-axis will be shared among all subplots\n",
    "        gridspec_kw={\"height_ratios\": (0.25, 0.75)},\n",
    "        figsize=figsize,\n",
    "    )  # creating the 2 subplots\n",
    "    sns.boxplot(\n",
    "        data=data, x=feature, ax=ax_box2, showmeans=True, color=\"blue\"\n",
    "    )  # boxplot will be created and a star will indicate the mean value of the column\n",
    "    sns.histplot(\n",
    "        data=data, x=feature, kde=kde, ax=ax_hist2, bins=bins, palette=\"winter\"\n",
    "    ) if bins else sns.histplot(\n",
    "        data=data, x=feature, kde=kde, ax=ax_hist2\n",
    "    )  # For histogram\n",
    "    ax_hist2.axvline(\n",
    "        data[feature].mean(), color=\"green\", linestyle=\"--\"\n",
    "    )  # Add mean to the histogram\n",
    "    ax_hist2.axvline(\n",
    "        data[feature].median(), color=\"black\", linestyle=\"-\"\n",
    "    )  # Add median to the histogram"
   ]
  },
  {
   "cell_type": "code",
   "execution_count": 10,
   "id": "4acc3c31",
   "metadata": {},
   "outputs": [
    {
     "data": {
      "text/plain": [
       "5.377800000000002"
      ]
     },
     "execution_count": 10,
     "metadata": {},
     "output_type": "execute_result"
    },
    {
     "data": {
      "image/png": "[encoded data removed]",
      "text/plain": [
       "<Figure size 864x504 with 2 Axes>"
      ]
     },
     "metadata": {
      "needs_background": "light"
     },
     "output_type": "display_data"
    }
   ],
   "source": [
    "histogram_boxplot(ab, 'time_spent_on_the_page') #this code outputs a boxplot and histogram\n",
    "plt.savefig(\"output.jpg\", bbox_inches='tight')\n",
    "ab['time_spent_on_the_page'].mean()"
   ]
  },
  {
   "cell_type": "markdown",
   "id": "d3ba61df",
   "metadata": {},
   "source": [
    "The mean time spent on the page for all users is 5.37 minutes\n",
    "The histogram follows a normal distributions the mean and medium are even really close in value"
   ]
  },
  {
   "cell_type": "code",
   "execution_count": 11,
   "id": "f3161bc0",
   "metadata": {},
   "outputs": [
    {
     "data": {
      "image/png": "[encoded data removed]",
      "text/plain": [
       "<Figure size 432x288 with 1 Axes>"
      ]
     },
     "metadata": {
      "needs_background": "light"
     },
     "output_type": "display_data"
    }
   ],
   "source": [
    "ax=sns.countplot(x=ab['group'],palette='winter', data=ab); #this code outputs a countplot of the group feature\n",
    "plt.savefig(\"output.jpg\", bbox_inches='tight')\n",
    "for p in ax.patches: #these lines of code adds the count label\n",
    "    ax.annotate(f'\\n{p.get_height()}', (p.get_x()+0.2, p.get_height()), ha='center', va='top', color='white', size=18)\n"
   ]
  },
  {
   "cell_type": "markdown",
   "id": "665e94cb",
   "metadata": {},
   "source": [
    "As expected there are 50 users in the control group and 50 users in the treatment group"
   ]
  },
  {
   "cell_type": "code",
   "execution_count": 12,
   "id": "d247842d",
   "metadata": {},
   "outputs": [
    {
     "data": {
      "image/png": "[encoded data removed]",
      "text/plain": [
       "<Figure size 432x288 with 1 Axes>"
      ]
     },
     "metadata": {
      "needs_background": "light"
     },
     "output_type": "display_data"
    }
   ],
   "source": [
    "ax=sns.countplot(x=ab['landing_page'],palette='winter', data=ab); #this code outputs a countplot the landing page feature\n",
    "plt.savefig(\"output.jpg\", bbox_inches='tight')\n",
    "for p in ax.patches: #this code outputs the count labels\n",
    "    ax.annotate(f'\\n{p.get_height()}', (p.get_x()+0.2, p.get_height()), ha='center', va='top', color='white', size=18)"
   ]
  },
  {
   "cell_type": "markdown",
   "id": "28286142",
   "metadata": {},
   "source": [
    "Becasue the control group is the old landing page and the treatment group is the new landing page we can also see here that there are 50 users in each catergory"
   ]
  },
  {
   "cell_type": "code",
   "execution_count": 13,
   "id": "72cab7ca",
   "metadata": {},
   "outputs": [
    {
     "data": {
      "image/png": "[encoded data removed]",
      "text/plain": [
       "<Figure size 432x288 with 1 Axes>"
      ]
     },
     "metadata": {
      "needs_background": "light"
     },
     "output_type": "display_data"
    }
   ],
   "source": [
    "ax=sns.countplot(x=ab['converted'],palette='winter', data=ab); #this code outputs a countplot of the converted feature\n",
    "plt.savefig(\"output.jpg\", bbox_inches='tight')\n",
    "for p in ax.patches: #this code outputs a count label\n",
    "    ax.annotate(f'\\n{p.get_height()}', (p.get_x()+0.2, p.get_height()), ha='center', va='top', color='white', size=18)"
   ]
  },
  {
   "cell_type": "markdown",
   "id": "6487dbdf",
   "metadata": {},
   "source": [
    "In the dataset there were 54 users who converted to subscribers and 46 who did not. This is before splitting the data by which landing page they used"
   ]
  },
  {
   "cell_type": "code",
   "execution_count": 14,
   "id": "818bf1ff",
   "metadata": {},
   "outputs": [
    {
     "data": {
      "image/png": "[encoded data removed]",
      "text/plain": [
       "<Figure size 432x288 with 1 Axes>"
      ]
     },
     "metadata": {
      "needs_background": "light"
     },
     "output_type": "display_data"
    }
   ],
   "source": [
    "ax=sns.countplot(x=ab['language_preferred'],palette='winter', data=ab); #this code outputs a countplot language preferred feature\n",
    "plt.savefig(\"output.jpg\", bbox_inches='tight')\n",
    "for p in ax.patches: #this code outputs a count label\n",
    "    ax.annotate(f'\\n{p.get_height()}', (p.get_x()+0.2, p.get_height()), ha='center', va='top', color='white', size=18)"
   ]
  },
  {
   "cell_type": "markdown",
   "id": "2a3956fd",
   "metadata": {},
   "source": [
    "32 users preferred English\n",
    "\n",
    "34 users preferred French\n",
    "\n",
    "34 users preferred Spanish\n",
    "\n",
    "There is a good mix of users here"
   ]
  },
  {
   "cell_type": "markdown",
   "id": "c8806f6c",
   "metadata": {},
   "source": [
    "# Mulitvariate Analysis"
   ]
  },
  {
   "cell_type": "code",
   "execution_count": 15,
   "id": "6e06a212",
   "metadata": {},
   "outputs": [
    {
     "data": {
      "text/html": [
       "<div>\n",
       "<style scoped>\n",
       "    .dataframe tbody tr th:only-of-type {\n",
       "        vertical-align: middle;\n",
       "    }\n",
       "\n",
       "    .dataframe tbody tr th {\n",
       "        vertical-align: top;\n",
       "    }\n",
       "\n",
       "    .dataframe thead th {\n",
       "        text-align: right;\n",
       "    }\n",
       "</style>\n",
       "<table border=\"1\" class=\"dataframe\">\n",
       "  <thead>\n",
       "    <tr style=\"text-align: right;\">\n",
       "      <th></th>\n",
       "      <th>time_spent_on_the_page</th>\n",
       "    </tr>\n",
       "    <tr>\n",
       "      <th>landing_page</th>\n",
       "      <th></th>\n",
       "    </tr>\n",
       "  </thead>\n",
       "  <tbody>\n",
       "    <tr>\n",
       "      <th>new</th>\n",
       "      <td>6.2232</td>\n",
       "    </tr>\n",
       "    <tr>\n",
       "      <th>old</th>\n",
       "      <td>4.5324</td>\n",
       "    </tr>\n",
       "  </tbody>\n",
       "</table>\n",
       "</div>"
      ],
      "text/plain": [
       "              time_spent_on_the_page\n",
       "landing_page                        \n",
       "new                           6.2232\n",
       "old                           4.5324"
      ]
     },
     "execution_count": 15,
     "metadata": {},
     "output_type": "execute_result"
    },
    {
     "data": {
      "image/png": "[encoded data removed]",
      "text/plain": [
       "<Figure size 432x288 with 1 Axes>"
      ]
     },
     "metadata": {
      "needs_background": "light"
     },
     "output_type": "display_data"
    }
   ],
   "source": [
    "sns.barplot(x='landing_page', y='time_spent_on_the_page', data=ab, palette='winter') #this code outputs a barplot of the time spent on the page vs the landing page that was used\n",
    "plt.savefig(\"output.jpg\", bbox_inches='tight')\n",
    "plt.figure(figsize=(12,12)) #this code groups the data by landing page and then outputs the mean time spent on the page"
   ]
  },
  {
   "cell_type": "markdown",
   "id": "fa09d95e",
   "metadata": {},
   "source": [
    "Here we can see the differecne in the time spent on the landing page. We can observe that the users spend who were on the new landing page spent more time on the page than the users who used the old landing page \n",
    "\n",
    "Is the new landing page better and more desirable?"
   ]
  },
  {
   "cell_type": "code",
   "execution_count": 16,
   "id": "33a8f88d",
   "metadata": {},
   "outputs": [
    {
     "data": {
      "text/html": [
       "<div>\n",
       "<style scoped>\n",
       "    .dataframe tbody tr th:only-of-type {\n",
       "        vertical-align: middle;\n",
       "    }\n",
       "\n",
       "    .dataframe tbody tr th {\n",
       "        vertical-align: top;\n",
       "    }\n",
       "\n",
       "    .dataframe thead th {\n",
       "        text-align: right;\n",
       "    }\n",
       "</style>\n",
       "<table border=\"1\" class=\"dataframe\">\n",
       "  <thead>\n",
       "    <tr style=\"text-align: right;\">\n",
       "      <th></th>\n",
       "      <th>time_spent_on_the_page</th>\n",
       "    </tr>\n",
       "    <tr>\n",
       "      <th>converted</th>\n",
       "      <th></th>\n",
       "    </tr>\n",
       "  </thead>\n",
       "  <tbody>\n",
       "    <tr>\n",
       "      <th>no</th>\n",
       "      <td>3.915870</td>\n",
       "    </tr>\n",
       "    <tr>\n",
       "      <th>yes</th>\n",
       "      <td>6.623148</td>\n",
       "    </tr>\n",
       "  </tbody>\n",
       "</table>\n",
       "</div>"
      ],
      "text/plain": [
       "           time_spent_on_the_page\n",
       "converted                        \n",
       "no                       3.915870\n",
       "yes                      6.623148"
      ]
     },
     "execution_count": 16,
     "metadata": {},
     "output_type": "execute_result"
    },
    {
     "data": {
      "image/png": "[encoded data removed]",
      "text/plain": [
       "<Figure size 432x288 with 1 Axes>"
      ]
     },
     "metadata": {
      "needs_background": "light"
     },
     "output_type": "display_data"
    }
   ],
   "source": [
    "sns.barplot(x='converted', y='time_spent_on_the_page', data=ab, palette='winter') #this code outputs a barplot of the time spent on the page vs converted status\n",
    "plt.savefig(\"output.jpg\", bbox_inches='tight')\n",
    "ab.groupby('converted')[['time_spent_on_the_page']].mean() #this code groups the data by converted than output the mean time on the page of those who converted and those who did not"
   ]
  },
  {
   "cell_type": "markdown",
   "id": "131ab08d",
   "metadata": {},
   "source": [
    "Here we can see the differecne in the time spent on the page from those who converted to subscribers vs those who did not. We can observe that the users spend who converted spent more time on the page than those who did not convert"
   ]
  },
  {
   "cell_type": "code",
   "execution_count": 17,
   "id": "2452b66c",
   "metadata": {},
   "outputs": [
    {
     "data": {
      "text/html": [
       "<div>\n",
       "<style scoped>\n",
       "    .dataframe tbody tr th:only-of-type {\n",
       "        vertical-align: middle;\n",
       "    }\n",
       "\n",
       "    .dataframe tbody tr th {\n",
       "        vertical-align: top;\n",
       "    }\n",
       "\n",
       "    .dataframe thead th {\n",
       "        text-align: right;\n",
       "    }\n",
       "</style>\n",
       "<table border=\"1\" class=\"dataframe\">\n",
       "  <thead>\n",
       "    <tr style=\"text-align: right;\">\n",
       "      <th></th>\n",
       "      <th>time_spent_on_the_page</th>\n",
       "    </tr>\n",
       "    <tr>\n",
       "      <th>language_preferred</th>\n",
       "      <th></th>\n",
       "    </tr>\n",
       "  </thead>\n",
       "  <tbody>\n",
       "    <tr>\n",
       "      <th>English</th>\n",
       "      <td>5.559063</td>\n",
       "    </tr>\n",
       "    <tr>\n",
       "      <th>French</th>\n",
       "      <td>5.253235</td>\n",
       "    </tr>\n",
       "    <tr>\n",
       "      <th>Spanish</th>\n",
       "      <td>5.331765</td>\n",
       "    </tr>\n",
       "  </tbody>\n",
       "</table>\n",
       "</div>"
      ],
      "text/plain": [
       "                    time_spent_on_the_page\n",
       "language_preferred                        \n",
       "English                           5.559063\n",
       "French                            5.253235\n",
       "Spanish                           5.331765"
      ]
     },
     "execution_count": 17,
     "metadata": {},
     "output_type": "execute_result"
    },
    {
     "data": {
      "image/png": "[encoded data removed]",
      "text/plain": [
       "<Figure size 432x288 with 1 Axes>"
      ]
     },
     "metadata": {
      "needs_background": "light"
     },
     "output_type": "display_data"
    }
   ],
   "source": [
    "sns.barplot(x='language_preferred', y='time_spent_on_the_page', data=ab, palette='winter') #this code outputs a barplot of time spent on the page vs language preferred\n",
    "plt.savefig(\"output.jpg\", bbox_inches='tight')\n",
    "ab.groupby('language_preferred')[['time_spent_on_the_page']].mean() #this code groups the data by language preferred and outputs the mean time spent on the page for each language"
   ]
  },
  {
   "cell_type": "markdown",
   "id": "e3ce5919",
   "metadata": {},
   "source": [
    "Here we can see if the time spent on the page was different among the different language the users preferred. It is not to differnt but what we can observe is that those who prefer English spend just a little more time on the page than those who preferred French and Spanish"
   ]
  },
  {
   "cell_type": "code",
   "execution_count": 18,
   "id": "838fe50a",
   "metadata": {},
   "outputs": [
    {
     "data": {
      "image/png": "[encoded data removed]",
      "text/plain": [
       "<Figure size 432x288 with 1 Axes>"
      ]
     },
     "metadata": {
      "needs_background": "light"
     },
     "output_type": "display_data"
    }
   ],
   "source": [
    "ab2=ab[ab['landing_page']==\"new\"] #this code isolates the landing page feature by new this allows us to analyze only the observations on the new landing page\n",
    "ab2['converted'].value_counts() #we get the value counts of those who converted or did not\n",
    "ax=sns.countplot(x=ab2['converted'],palette='winter', data=ab); #creates a countplot \n",
    "plt.savefig(\"output.jpg\", bbox_inches='tight')\n",
    "for p in ax.patches: #labes the countplot\n",
    "    ax.annotate(f'\\n{p.get_height()}', (p.get_x()+0.2, p.get_height()), ha='center', va='top', color='white', size=18)"
   ]
  },
  {
   "cell_type": "markdown",
   "id": "fff88c64",
   "metadata": {},
   "source": [
    "Here we can see that 33 users out of 50 who used the new landing page converted to subscribers \n",
    "\n",
    "More than half of the users on the new landing page converted"
   ]
  },
  {
   "cell_type": "code",
   "execution_count": 19,
   "id": "e6599772",
   "metadata": {},
   "outputs": [
    {
     "data": {
      "image/png": "[encoded data removed]",
      "text/plain": [
       "<Figure size 432x288 with 1 Axes>"
      ]
     },
     "metadata": {
      "needs_background": "light"
     },
     "output_type": "display_data"
    }
   ],
   "source": [
    "ab3=ab[ab['landing_page']=='old'] #this code isolates the landing page feature by old landing page and allows us to analyze only the observations on the old landing page\n",
    "ab3['converted'].value_counts() #this outputs a count of those who converted or did not convert\n",
    "ax=sns.countplot(x=ab3['converted'],palette='winter', data=ab); #creates a countplot\n",
    "plt.savefig(\"output.jpg\", bbox_inches='tight')\n",
    "for p in ax.patches: #labels the countplot\n",
    "    ax.annotate(f'\\n{p.get_height()}', (p.get_x()+0.2, p.get_height()), ha='center', va='top', color='white', size=18)"
   ]
  },
  {
   "cell_type": "markdown",
   "id": "f7c23c58",
   "metadata": {},
   "source": [
    "Here we can see that only 21 users out of 50 who used the old landing page converted to subscribers\n",
    "\n",
    "The conversion on the new landing page is better than the old landing page here less than half converted"
   ]
  },
  {
   "cell_type": "code",
   "execution_count": 20,
   "id": "ef81b190",
   "metadata": {},
   "outputs": [
    {
     "data": {
      "text/html": [
       "<div>\n",
       "<style scoped>\n",
       "    .dataframe tbody tr th:only-of-type {\n",
       "        vertical-align: middle;\n",
       "    }\n",
       "\n",
       "    .dataframe tbody tr th {\n",
       "        vertical-align: top;\n",
       "    }\n",
       "\n",
       "    .dataframe thead th {\n",
       "        text-align: right;\n",
       "    }\n",
       "</style>\n",
       "<table border=\"1\" class=\"dataframe\">\n",
       "  <thead>\n",
       "    <tr style=\"text-align: right;\">\n",
       "      <th></th>\n",
       "      <th>time_spent_on_the_page</th>\n",
       "    </tr>\n",
       "    <tr>\n",
       "      <th>language_preferred</th>\n",
       "      <th></th>\n",
       "    </tr>\n",
       "  </thead>\n",
       "  <tbody>\n",
       "    <tr>\n",
       "      <th>English</th>\n",
       "      <td>6.663750</td>\n",
       "    </tr>\n",
       "    <tr>\n",
       "      <th>French</th>\n",
       "      <td>6.196471</td>\n",
       "    </tr>\n",
       "    <tr>\n",
       "      <th>Spanish</th>\n",
       "      <td>5.835294</td>\n",
       "    </tr>\n",
       "  </tbody>\n",
       "</table>\n",
       "</div>"
      ],
      "text/plain": [
       "                    time_spent_on_the_page\n",
       "language_preferred                        \n",
       "English                           6.663750\n",
       "French                            6.196471\n",
       "Spanish                           5.835294"
      ]
     },
     "execution_count": 20,
     "metadata": {},
     "output_type": "execute_result"
    },
    {
     "data": {
      "image/png": "[encoded data removed]",
      "text/plain": [
       "<Figure size 432x288 with 1 Axes>"
      ]
     },
     "metadata": {
      "needs_background": "light"
     },
     "output_type": "display_data"
    }
   ],
   "source": [
    "ab4=ab[ab['landing_page']==\"new\"] #this code isolates the landing page feature by new this allows us to analyze only the observations on the new landing page\n",
    "ab4.groupby('language_preferred')[['time_spent_on_the_page']].mean() #this code groups the data by language preferred and then outputs the mean time spent on the page\n",
    "sns.barplot(x='language_preferred', y='time_spent_on_the_page', data=ab4, palette='winter') #this outputs a barplot\n",
    "plt.savefig(\"output.jpg\", bbox_inches='tight')\n",
    "ab4.groupby('language_preferred')[['time_spent_on_the_page']].mean() #this code groups the data by language preferred and then outputs the mean time spent on the page"
   ]
  },
  {
   "cell_type": "markdown",
   "id": "5c347463",
   "metadata": {},
   "source": [
    "This chart shows us the relationship between wich language users preferred and how much time they spent on the page. This is only for the users on the new landing page however it is similar to what we saw when we looked at all users regardless of what page they used"
   ]
  },
  {
   "cell_type": "code",
   "execution_count": 21,
   "id": "ab628b32",
   "metadata": {},
   "outputs": [
    {
     "data": {
      "text/html": [
       "<div>\n",
       "<style scoped>\n",
       "    .dataframe tbody tr th:only-of-type {\n",
       "        vertical-align: middle;\n",
       "    }\n",
       "\n",
       "    .dataframe tbody tr th {\n",
       "        vertical-align: top;\n",
       "    }\n",
       "\n",
       "    .dataframe thead th {\n",
       "        text-align: right;\n",
       "    }\n",
       "</style>\n",
       "<table border=\"1\" class=\"dataframe\">\n",
       "  <thead>\n",
       "    <tr style=\"text-align: right;\">\n",
       "      <th></th>\n",
       "      <th>time_spent_on_the_page</th>\n",
       "    </tr>\n",
       "    <tr>\n",
       "      <th>language_preferred</th>\n",
       "      <th></th>\n",
       "    </tr>\n",
       "  </thead>\n",
       "  <tbody>\n",
       "    <tr>\n",
       "      <th>English</th>\n",
       "      <td>4.454375</td>\n",
       "    </tr>\n",
       "    <tr>\n",
       "      <th>French</th>\n",
       "      <td>4.310000</td>\n",
       "    </tr>\n",
       "    <tr>\n",
       "      <th>Spanish</th>\n",
       "      <td>4.828235</td>\n",
       "    </tr>\n",
       "  </tbody>\n",
       "</table>\n",
       "</div>"
      ],
      "text/plain": [
       "                    time_spent_on_the_page\n",
       "language_preferred                        \n",
       "English                           4.454375\n",
       "French                            4.310000\n",
       "Spanish                           4.828235"
      ]
     },
     "execution_count": 21,
     "metadata": {},
     "output_type": "execute_result"
    },
    {
     "data": {
      "image/png": "[encoded data removed]",
      "text/plain": [
       "<Figure size 432x288 with 1 Axes>"
      ]
     },
     "metadata": {
      "needs_background": "light"
     },
     "output_type": "display_data"
    }
   ],
   "source": [
    "ab5=ab[ab['landing_page']==\"old\"] #this code isolates the landing page feature by old landing page and allows us to analyze only the observations on the old landing page\n",
    "sns.barplot(x='language_preferred', y='time_spent_on_the_page', data=ab5, palette='winter') #this code ouptuts a barplot\n",
    "plt.savefig(\"output.jpg\", bbox_inches='tight')\n",
    "ab5.groupby('language_preferred')[['time_spent_on_the_page']].mean() #this code groups the data by language preferred and outputs the mean time spent on the page"
   ]
  },
  {
   "cell_type": "markdown",
   "id": "c012465e",
   "metadata": {},
   "source": [
    "This chart shows us the relationship between wich language users preferred and how much time they spent on the page. This is only for the users on the old landing page the results here are slighly different as now those who preferred Spanish spent more time on the page"
   ]
  },
  {
   "cell_type": "markdown",
   "id": "17413cc2",
   "metadata": {},
   "source": [
    "# Do the users spend more time on the new landing page than the old landing page?"
   ]
  },
  {
   "cell_type": "code",
   "execution_count": 22,
   "id": "ef93ff8f",
   "metadata": {},
   "outputs": [
    {
     "data": {
      "image/png": "[encoded data removed]",
      "text/plain": [
       "<Figure size 360x360 with 1 Axes>"
      ]
     },
     "metadata": {
      "needs_background": "light"
     },
     "output_type": "display_data"
    }
   ],
   "source": [
    "# Density plot of time spent on the page\n",
    "sns.displot(ab[\"time_spent_on_the_page\"], kde=True)\n",
    "plt.savefig(\"output.jpg\", bbox_inches='tight')\n",
    "plt.show()"
   ]
  },
  {
   "cell_type": "markdown",
   "id": "c1c45fe3",
   "metadata": {},
   "source": [
    "The time spent on the page variable follows a normal distribution"
   ]
  },
  {
   "cell_type": "code",
   "execution_count": 23,
   "id": "44e8c77f",
   "metadata": {},
   "outputs": [
    {
     "data": {
      "image/png": "[encoded data removed]",
      "text/plain": [
       "<Figure size 360x360 with 1 Axes>"
      ]
     },
     "metadata": {
      "needs_background": "light"
     },
     "output_type": "display_data"
    }
   ],
   "source": [
    "sns.displot(ab2[\"time_spent_on_the_page\"], kde=True) #density plot of time spent on the page only for those on the new page\n",
    "plt.show()"
   ]
  },
  {
   "cell_type": "markdown",
   "id": "d7897fd0",
   "metadata": {},
   "source": [
    "The time spent on the page variable (for those using the new page) follows a normal distribution"
   ]
  },
  {
   "cell_type": "code",
   "execution_count": 24,
   "id": "69b80b8e",
   "metadata": {},
   "outputs": [
    {
     "data": {
      "image/png": "[encoded data removed]",
      "text/plain": [
       "<Figure size 360x360 with 1 Axes>"
      ]
     },
     "metadata": {
      "needs_background": "light"
     },
     "output_type": "display_data"
    }
   ],
   "source": [
    "sns.displot(ab3[\"time_spent_on_the_page\"], kde=True) #density plot of time spent on the page only for those on the old landing page\n",
    "plt.show()"
   ]
  },
  {
   "cell_type": "markdown",
   "id": "40a61d60",
   "metadata": {},
   "source": [
    "The time spent on the page variable (for those using the old page) roughly follows a normal distribution"
   ]
  },
  {
   "cell_type": "markdown",
   "id": "64a089b9",
   "metadata": {},
   "source": [
    "# Two Independent Sample T-test for Equality of Means - Unequal Std Dev"
   ]
  },
  {
   "cell_type": "markdown",
   "id": "0cf71c19",
   "metadata": {},
   "source": [
    "### Let's write the null and alternative hypothesis\n",
    "Let $\\mu_1, \\mu_2$ be the daily mean for time spent on the new landing page and old landing page respectively.\n",
    "\n",
    "We will test the null hypothesis\n",
    "\n",
    ">$H_0:\\mu_1=\\mu_2$\n",
    "\n",
    "against the alternate hypothesis\n",
    "\n",
    ">$H_a:\\mu_1>\\mu_2$"
   ]
  },
  {
   "cell_type": "code",
   "execution_count": 25,
   "id": "df59e036",
   "metadata": {},
   "outputs": [
    {
     "name": "stdout",
     "output_type": "stream",
     "text": [
      "The mean time spent on new landing page is 6.2232\n",
      "The mean time spent on old landing page is 4.532400000000001\n",
      "The standard deviation of time spent on new landing page is  1.82\n",
      "The standard deviation of mean time spent on old landing page is 2.58\n"
     ]
    }
   ],
   "source": [
    "# find the sample means and sample standard deviations for the two samples\n",
    "print('The mean time spent on new landing page is ' + str(ab2['time_spent_on_the_page'].mean()))\n",
    "print('The mean time spent on old landing page is ' + str(ab3['time_spent_on_the_page'].mean()))\n",
    "print('The standard deviation of time spent on new landing page is  ' + str(round(ab2['time_spent_on_the_page'].std(), 2)))\n",
    "print('The standard deviation of mean time spent on old landing page is ' + str(round(ab3['time_spent_on_the_page'].std(), 2)))"
   ]
  },
  {
   "cell_type": "markdown",
   "id": "f3a8892a",
   "metadata": {},
   "source": [
    "### Let's test whether the T-test assumptions are satisfied or not\n",
    "\n",
    "* Continuous data - Yes, the time is measured on a continuous scale.\n",
    "* Normally distributed populations - Yes, we can see from the denstity plots that the populations are assumed to be normal.\n",
    "* Independent populations - As we are taking random samples for two different groups, the two samples are from two independent populations.\n",
    "* Unequal population standard deviations - As the sample standard deviations are different, the population standard deviations may be assumed to be different.\n",
    "* Random sampling from the population - Yes, we are informed that the collected sample a simple random sample."
   ]
  },
  {
   "cell_type": "code",
   "execution_count": 26,
   "id": "3bdc1d58",
   "metadata": {},
   "outputs": [
    {
     "data": {
      "image/png": "[encoded data removed]",
      "text/plain": [
       "<Figure size 432x288 with 1 Axes>"
      ]
     },
     "metadata": {
      "needs_background": "light"
     },
     "output_type": "display_data"
    }
   ],
   "source": [
    "sns.boxplot(x='landing_page', y='time_spent_on_the_page', data=ab, palette='winter') #outputs a boxplot of the mean time spent on the page for the landing page being used\n",
    "plt.savefig(\"output.jpg\", bbox_inches='tight')"
   ]
  },
  {
   "cell_type": "markdown",
   "id": "0ecda503",
   "metadata": {},
   "source": [
    "From the boxplot above we can assume that users do spend more time on the new landing page than the old landing page but it is important that we test this hypothesis so that we be accurate in our assumption"
   ]
  },
  {
   "cell_type": "code",
   "execution_count": 27,
   "id": "4e60cbda",
   "metadata": {},
   "outputs": [
    {
     "name": "stdout",
     "output_type": "stream",
     "text": [
      "The p-value is  0.0001392381225166549\n"
     ]
    }
   ],
   "source": [
    "from scipy.stats import ttest_ind\n",
    "# prepare the data\n",
    "time_spent_on_new_landingpage=ab[ab.landing_page=='new']['time_spent_on_the_page']\n",
    "time_spent_on_old_landingpage=ab[ab.landing_page=='old']['time_spent_on_the_page']\n",
    "# find the p-value\n",
    "test_stat, p_value = ttest_ind(time_spent_on_new_landingpage, time_spent_on_old_landingpage, equal_var = False, alternative = 'greater')\n",
    "print('The p-value is ', p_value)"
   ]
  },
  {
   "cell_type": "markdown",
   "id": "dd115245",
   "metadata": {},
   "source": [
    "### Insight\n",
    "As the p-value (~0.0001) is less than the level of significance, we can reject the null hypothesis. Hence, we do have enough evidence to support the claim that users spend more time on the new landing page than the old landing page."
   ]
  },
  {
   "cell_type": "markdown",
   "id": "54b185c7",
   "metadata": {},
   "source": [
    "# Is the conversion rate (the proportion of users who visit the landing page and get converted) for the new page greater than the conversion rate for the old page?"
   ]
  },
  {
   "cell_type": "markdown",
   "id": "e1778d16",
   "metadata": {},
   "source": [
    "# Two Proportion Z-test"
   ]
  },
  {
   "cell_type": "markdown",
   "id": "4ce5b926",
   "metadata": {},
   "source": [
    "### Let's write the null and alternative hypothesis\n",
    "Let $p_1,p_2$ be the proportions of users who visit the new landing page and get converted and those who visit the old landing page and get converted  respectively.\n",
    "\n",
    "The manufacturer will test the null hypothesis\n",
    "\n",
    ">$H_0:p_1 =p_2$\n",
    "\n",
    "against the alternate hypothesis\n",
    "\n",
    ">$H_a:p_1 > p_2$"
   ]
  },
  {
   "cell_type": "markdown",
   "id": "23676686",
   "metadata": {},
   "source": [
    "### Let's test whether the Z-test assumptions are satisfied or not\n",
    "\n",
    "*   Binomally distributed population - Yes, the user either converted or did not.\n",
    "*   Random sampling from the population - Yes, we are informed that the collected sample is a simple random sample.  \n",
    "*   Can the binomial distribution approximated to normal distribution - Yes. For binary data, CLT works slower than usual. The standard thing is to check whether np and n(1-p) are greater than or equal to 10. Here, n and p refer to the sample size and sample proportion respectively.\n",
    ">$np_1 = 50\\cdot \\frac{33}{50} =33 \\geq 10\\\\\n",
    "n(1-p_1) = 50 \\cdot \\frac{50-33}{17} =17 \\geq 10 \\\\\n",
    "np_2 = 50\\cdot \\frac{21}{50} =21 \\geq 10\\\\\n",
    "n(1-p_2) = 50 \\cdot \\frac{50-21}{29} =29 \\geq 10 $"
   ]
  },
  {
   "cell_type": "code",
   "execution_count": 28,
   "id": "d5dd4dd9",
   "metadata": {},
   "outputs": [
    {
     "data": {
      "image/png": "[encoded data removed]",
      "text/plain": [
       "<Figure size 432x288 with 1 Axes>"
      ]
     },
     "metadata": {
      "needs_background": "light"
     },
     "output_type": "display_data"
    }
   ],
   "source": [
    "sns.countplot(x='landing_page',hue='converted',palette='winter', data=ab) #this outputs a countplot of the converted status and which landing page was used\n",
    "plt.savefig(\"output.jpg\", bbox_inches='tight')"
   ]
  },
  {
   "cell_type": "markdown",
   "id": "d0b2730f",
   "metadata": {},
   "source": [
    "From the countplot above we can observe that those on the new landing page were more likely to convert to a subscriber than those users who were on the old landing page. Again it is important to test this hyptothesis so that we can be sure"
   ]
  },
  {
   "cell_type": "code",
   "execution_count": 29,
   "id": "5ff24afd",
   "metadata": {},
   "outputs": [
    {
     "name": "stdout",
     "output_type": "stream",
     "text": [
      "The p-value is 0.008026308204056278\n"
     ]
    }
   ],
   "source": [
    "# import the required fuction\n",
    "from statsmodels.stats.proportion import proportions_ztest\n",
    "\n",
    "# set the counts of conversions\n",
    "defect_count = np.array([33, 21])\n",
    "\n",
    "# set the sample sizes\n",
    "nobs = np.array([50, 50])\n",
    "\n",
    "# find the p-value\n",
    "test_stat, p_value = proportions_ztest(defect_count, nobs, alternative='larger')\n",
    "print('The p-value is ' + str(p_value))"
   ]
  },
  {
   "cell_type": "markdown",
   "id": "34b1fd65",
   "metadata": {},
   "source": [
    "### Insight\n",
    "\n",
    "As the p-value is less than the significance level 0.05, we can reject the null hypothesis. Hence, we do have enough evidence to conclude that the conversion rate of the new landing page is greater than the conversion rate of the old landing page."
   ]
  },
  {
   "cell_type": "markdown",
   "id": "0ad41bb7",
   "metadata": {},
   "source": [
    "# Does the converted status depend on the preferred language? [Hint: Create a contingency table using the pandas.crosstab() function]"
   ]
  },
  {
   "cell_type": "markdown",
   "id": "41468fc0",
   "metadata": {},
   "source": [
    "# Chi-Square Test for Independence"
   ]
  },
  {
   "cell_type": "markdown",
   "id": "b4816018",
   "metadata": {},
   "source": [
    "### Let's write the null and alternative hypothesis\n",
    "\n",
    "\n",
    "We will test the null hypothesis\n",
    "\n",
    ">$H_0:$ Converted status is independent of the preferred language.\n",
    "\n",
    "against the alternate hypothesis\n",
    "\n",
    ">$H_a:$ Converted status depends on the preferred language."
   ]
  },
  {
   "cell_type": "code",
   "execution_count": 30,
   "id": "3f1bb983",
   "metadata": {},
   "outputs": [
    {
     "data": {
      "text/html": [
       "<div>\n",
       "<style scoped>\n",
       "    .dataframe tbody tr th:only-of-type {\n",
       "        vertical-align: middle;\n",
       "    }\n",
       "\n",
       "    .dataframe tbody tr th {\n",
       "        vertical-align: top;\n",
       "    }\n",
       "\n",
       "    .dataframe thead th {\n",
       "        text-align: right;\n",
       "    }\n",
       "</style>\n",
       "<table border=\"1\" class=\"dataframe\">\n",
       "  <thead>\n",
       "    <tr style=\"text-align: right;\">\n",
       "      <th>converted</th>\n",
       "      <th>no</th>\n",
       "      <th>yes</th>\n",
       "    </tr>\n",
       "    <tr>\n",
       "      <th>language_preferred</th>\n",
       "      <th></th>\n",
       "      <th></th>\n",
       "    </tr>\n",
       "  </thead>\n",
       "  <tbody>\n",
       "    <tr>\n",
       "      <th>English</th>\n",
       "      <td>11</td>\n",
       "      <td>21</td>\n",
       "    </tr>\n",
       "    <tr>\n",
       "      <th>French</th>\n",
       "      <td>19</td>\n",
       "      <td>15</td>\n",
       "    </tr>\n",
       "    <tr>\n",
       "      <th>Spanish</th>\n",
       "      <td>16</td>\n",
       "      <td>18</td>\n",
       "    </tr>\n",
       "  </tbody>\n",
       "</table>\n",
       "</div>"
      ],
      "text/plain": [
       "converted           no  yes\n",
       "language_preferred         \n",
       "English             11   21\n",
       "French              19   15\n",
       "Spanish             16   18"
      ]
     },
     "execution_count": 30,
     "metadata": {},
     "output_type": "execute_result"
    }
   ],
   "source": [
    "cont_table= pd.crosstab(ab['language_preferred'],ab['converted']) #extracts the necessary data to figure out how many converted depending on the language preferred\n",
    "cont_table.head()"
   ]
  },
  {
   "cell_type": "markdown",
   "id": "f9f1a60f",
   "metadata": {},
   "source": [
    "For users who preferred English 21 converted and 11 did not\n",
    "\n",
    "For users who preferred French 15 converted and 19 did not\n",
    "\n",
    "For users who preferred Spanish 18 converted and 16 did not"
   ]
  },
  {
   "cell_type": "markdown",
   "id": "b1c16a6e",
   "metadata": {},
   "source": [
    "### Let's test whether the assumptions are satisfied or not\n",
    "\n",
    "* Categorical variables - Yes\n",
    "* Expected value of the number of sample observations in each level of the variable is at least 5 - Yes, the number of observations in each level is greater than 5.\n",
    "* Random sampling from the population - Yes, we are informed that the collected sample is a simple random sample."
   ]
  },
  {
   "cell_type": "code",
   "execution_count": 31,
   "id": "6c1a740f",
   "metadata": {},
   "outputs": [
    {
     "data": {
      "image/png": "[encoded data removed]",
      "text/plain": [
       "<Figure size 432x288 with 1 Axes>"
      ]
     },
     "metadata": {
      "needs_background": "light"
     },
     "output_type": "display_data"
    }
   ],
   "source": [
    "sns.countplot(x='language_preferred',hue='converted',palette='winter', data=ab) #this code outputs a countplot of those who converted or did not based off the language they preferred\n",
    "plt.savefig(\"output.jpg\", bbox_inches='tight')"
   ]
  },
  {
   "cell_type": "markdown",
   "id": "de16cf71",
   "metadata": {},
   "source": [
    "From the countplot above it does not look as though the language users prefer makes a any difference if they convert to subscirbers or not, in that case we can assume that these two things are independent of each other, let us test it to be sure"
   ]
  },
  {
   "cell_type": "code",
   "execution_count": 32,
   "id": "989a2a37",
   "metadata": {},
   "outputs": [
    {
     "name": "stdout",
     "output_type": "stream",
     "text": [
      "The p-value is  0.2129888748754345\n"
     ]
    }
   ],
   "source": [
    "#import the required functions\n",
    "from scipy.stats import chi2_contingency\n",
    "#preparing the contingency table\n",
    "chi, p_value, dof, expected = chi2_contingency(cont_table)\n",
    "print('The p-value is ', p_value)"
   ]
  },
  {
   "cell_type": "markdown",
   "id": "8af760df",
   "metadata": {},
   "source": [
    "### Insight\n",
    "As the p-value is greater than the significance level, we fail reject the null hypothesis. Hence, we do not have enough evidence to conclude that converted status is not independent of the preferred language at 5% significance level."
   ]
  },
  {
   "cell_type": "markdown",
   "id": "359f948d",
   "metadata": {},
   "source": [
    "# Is the mean time spent on the new page same for the different language users?"
   ]
  },
  {
   "cell_type": "markdown",
   "id": "45ca2e6a",
   "metadata": {},
   "source": [
    "# One-way ANOVA Test"
   ]
  },
  {
   "cell_type": "markdown",
   "id": "73087c57",
   "metadata": {},
   "source": [
    "### Let's write the null and alternative hypothesis\n",
    "\n",
    "Let $\\mu_1, \\mu_2, \\mu_3$ be the means of the time spent on the page for languages preferred Egnlish, French and Spanish respectively.\n",
    "\n",
    "We will test the null hypothesis\n",
    "\n",
    ">$H_0: \\mu_1 = \\mu_2 = \\mu_3$\n",
    "\n",
    "against the alternative hypothesis\n",
    "\n",
    ">$H_a: $ At least one time spent on the page mean is different from the rest."
   ]
  },
  {
   "cell_type": "code",
   "execution_count": 33,
   "id": "94f86f4e",
   "metadata": {},
   "outputs": [
    {
     "data": {
      "text/html": [
       "<div>\n",
       "<style scoped>\n",
       "    .dataframe tbody tr th:only-of-type {\n",
       "        vertical-align: middle;\n",
       "    }\n",
       "\n",
       "    .dataframe tbody tr th {\n",
       "        vertical-align: top;\n",
       "    }\n",
       "\n",
       "    .dataframe thead th {\n",
       "        text-align: right;\n",
       "    }\n",
       "</style>\n",
       "<table border=\"1\" class=\"dataframe\">\n",
       "  <thead>\n",
       "    <tr style=\"text-align: right;\">\n",
       "      <th></th>\n",
       "      <th>time_spent_on_the_page</th>\n",
       "    </tr>\n",
       "    <tr>\n",
       "      <th>language_preferred</th>\n",
       "      <th></th>\n",
       "    </tr>\n",
       "  </thead>\n",
       "  <tbody>\n",
       "    <tr>\n",
       "      <th>English</th>\n",
       "      <td>6.663750</td>\n",
       "    </tr>\n",
       "    <tr>\n",
       "      <th>French</th>\n",
       "      <td>6.196471</td>\n",
       "    </tr>\n",
       "    <tr>\n",
       "      <th>Spanish</th>\n",
       "      <td>5.835294</td>\n",
       "    </tr>\n",
       "  </tbody>\n",
       "</table>\n",
       "</div>"
      ],
      "text/plain": [
       "                    time_spent_on_the_page\n",
       "language_preferred                        \n",
       "English                           6.663750\n",
       "French                            6.196471\n",
       "Spanish                           5.835294"
      ]
     },
     "execution_count": 33,
     "metadata": {},
     "output_type": "execute_result"
    },
    {
     "data": {
      "image/png": "[encoded data removed]",
      "text/plain": [
       "<Figure size 432x288 with 1 Axes>"
      ]
     },
     "metadata": {
      "needs_background": "light"
     },
     "output_type": "display_data"
    }
   ],
   "source": [
    "sns.boxplot(x='language_preferred', y='time_spent_on_the_page', data=ab2, palette='winter')#outputs a boxplot of the mean time spent on the page for the landing page being used\n",
    "plt.savefig(\"output.jpg\", bbox_inches='tight')\n",
    "ab2.groupby('language_preferred')[['time_spent_on_the_page']].mean() #this code groups the data by language preferred and outputs the mean time spent on the page based on preferred language"
   ]
  },
  {
   "cell_type": "markdown",
   "id": "25c4c552",
   "metadata": {},
   "source": [
    "Now, the normality and equality of variance assumptions need to be checked. \n",
    "\n",
    "* For testing of normality, Shapiro-Wilk’s test is applied to the response variable.\n",
    "\n",
    "* For equality of variance, Levene test is applied to the response variable."
   ]
  },
  {
   "cell_type": "markdown",
   "id": "ecf97320",
   "metadata": {},
   "source": [
    "### Shapiro-Wilk’s test\n",
    "\n",
    "We will test the null hypothesis\n",
    "\n",
    ">$H_0:$ Time spent on the page follows a normal distribution against\n",
    "\n",
    "against the alternative hypothesis\n",
    "\n",
    ">$H_a:$ Time spent on the page does not follow a normal distribution"
   ]
  },
  {
   "cell_type": "code",
   "execution_count": 34,
   "id": "b6e34d78",
   "metadata": {},
   "outputs": [
    {
     "name": "stdout",
     "output_type": "stream",
     "text": [
      "The p-value is 0.8040016293525696\n"
     ]
    }
   ],
   "source": [
    "# Assumption 1: Normality\n",
    "# import the required function\n",
    "from scipy import stats\n",
    "\n",
    "# find the p-value\n",
    "w, p_value = stats.shapiro(ab2['time_spent_on_the_page']) \n",
    "print('The p-value is', p_value)"
   ]
  },
  {
   "cell_type": "markdown",
   "id": "2eb034a4",
   "metadata": {},
   "source": [
    "Since p-value of the test is very large, we fail to reject the null hypothesis that the response follows the normal distribution."
   ]
  },
  {
   "cell_type": "markdown",
   "id": "7aded7cb",
   "metadata": {},
   "source": [
    "### Levene’s test\n",
    "\n",
    "We will test the null hypothesis\n",
    "\n",
    ">$H_0$: All the population variances are equal\n",
    "\n",
    "against the alternative hypothesis\n",
    "\n",
    ">$H_a$: At least one variance is different from the rest"
   ]
  },
  {
   "cell_type": "code",
   "execution_count": 35,
   "id": "11492a3f",
   "metadata": {},
   "outputs": [
    {
     "name": "stdout",
     "output_type": "stream",
     "text": [
      "The p-value is 0.46711357711340173\n"
     ]
    }
   ],
   "source": [
    "#Assumption 2: Homogeneity of Variance\n",
    "#import the required function\n",
    "from scipy.stats import levene\n",
    "statistic, p_value = levene( ab2['time_spent_on_the_page'][ab2['language_preferred']==\"English\"], \n",
    "                                   ab2['time_spent_on_the_page'][ab2['language_preferred']==\"French\"], \n",
    "                                   ab2['time_spent_on_the_page'][ab2['language_preferred']==\"Spanish\"])\n",
    "# find the p-value\n",
    "print('The p-value is', p_value)"
   ]
  },
  {
   "cell_type": "markdown",
   "id": "cdaefa33",
   "metadata": {},
   "source": [
    "Since the p-value is large, we fail to reject the null hypothesis of homogeneity of variances."
   ]
  },
  {
   "cell_type": "markdown",
   "id": "e6b85607",
   "metadata": {},
   "source": [
    "### Let's test whether the assumptions are satisfied or not\n",
    "\n",
    "* The populations are normally distributed - Yes, the normality assumption is verified using the Shapiro-Wilk’s test.\n",
    "* Samples are independent simple random samples - Yes, we are informed that the collected sample is a simple random sample.\n",
    "* Population variances are equal - Yes, the homogeneity of variance assumption is verified using the Levene's test."
   ]
  },
  {
   "cell_type": "code",
   "execution_count": 36,
   "id": "250e4021",
   "metadata": {},
   "outputs": [
    {
     "name": "stdout",
     "output_type": "stream",
     "text": [
      "The p-value is 0.43204138694325955\n"
     ]
    }
   ],
   "source": [
    "#import the required function\n",
    "from scipy.stats import f_oneway\n",
    "\n",
    "# perform one-way anova test\n",
    "test_stat, p_value = f_oneway(ab2.loc[ab2['language_preferred'] == 'English', 'time_spent_on_the_page'],\n",
    "                              ab2.loc[ab2['language_preferred'] == 'French', 'time_spent_on_the_page'],\n",
    "                              ab2.loc[ab2['language_preferred'] == 'Spanish', 'time_spent_on_the_page'])\n",
    "print('The p-value is ' + str(p_value))"
   ]
  },
  {
   "cell_type": "markdown",
   "id": "7e3db0fe",
   "metadata": {},
   "source": [
    "### Insight\n",
    "As the p-value is much greater than the significance level, we fail to reject the null hypothesis. Hence, we do not have enough evidence to conclude that at least one time spent on the page mean is different from the rest at 5% significance level."
   ]
  },
  {
   "cell_type": "code",
   "execution_count": 37,
   "id": "679efb7b",
   "metadata": {},
   "outputs": [
    {
     "name": "stdout",
     "output_type": "stream",
     "text": [
      " Multiple Comparison of Means - Tukey HSD, FWER=0.05 \n",
      "=====================================================\n",
      " group1  group2 meandiff p-adj   lower  upper  reject\n",
      "-----------------------------------------------------\n",
      "English  French  -0.4673 0.7259 -2.0035  1.069  False\n",
      "English Spanish  -0.8285  0.401 -2.3647 0.7078  False\n",
      " French Spanish  -0.3612  0.816  -1.874 1.1516  False\n",
      "-----------------------------------------------------\n"
     ]
    }
   ],
   "source": [
    "#import the required function\n",
    "from statsmodels.stats.multicomp import pairwise_tukeyhsd\n",
    "\n",
    "# perform multiple pairwise comparison (Tukey HSD)\n",
    "m_comp = pairwise_tukeyhsd(endog = ab2['time_spent_on_the_page'], groups = ab2['language_preferred'], alpha = 0.05)\n",
    "print(m_comp)"
   ]
  },
  {
   "cell_type": "markdown",
   "id": "3287d87a",
   "metadata": {},
   "source": [
    "### Insight\n",
    "\n",
    "As the p-values (refer to the p-adj column) for comparing the mean time_spent_on_the_page for all pairs is greater than the significance level, the null hypothesis of equality of all population means cannot be rejected."
   ]
  },
  {
   "cell_type": "markdown",
   "id": "e6e97373",
   "metadata": {},
   "source": [
    "# Conclusions and Recommendations"
   ]
  },
  {
   "cell_type": "markdown",
   "id": "b5d4e892",
   "metadata": {},
   "source": [
    "### Conclusion"
   ]
  },
  {
   "cell_type": "markdown",
   "id": "187a66a9",
   "metadata": {},
   "source": [
    "After all the analysis we can conclude that:\n",
    "\n",
    "1. The mean time spent on the page for all users was 5.37 minutes\n",
    "\n",
    "\n",
    "2. From the hypothesis test we can conclude that users did spend more time on the new page than the old page\n",
    "\n",
    "\n",
    "3. We can also conclude that the new page had a greater conversion rate than the old landing page\n",
    "\n",
    "\n",
    "4. The language preferred by the user did not really have an impact on whether the user converted to a subscriber or not since the two variables are independent of each other\n",
    "\n",
    "\n",
    "5. The mean time spent on the new landing page did not differ based on the user's preferred language \n"
   ]
  },
  {
   "cell_type": "markdown",
   "id": "ebbbd5a0",
   "metadata": {},
   "source": [
    "### Recommendations"
   ]
  },
  {
   "cell_type": "markdown",
   "id": "d34ff1d2",
   "metadata": {},
   "source": [
    "Based on our analysis the following recommendations can help E-News Express better gain new subscribers:\n",
    "\n",
    "1. Not only is the mean time spent on the page for the new landing page greater than the old landing page, but it also has a higher conversion rate. Because of this, it is important that E-News Express implement this new landing page as soon as possible as it is the most effective page at gaining new subscribers\n",
    "\n",
    "\n",
    "2. Because the language preferred by the users does not even have an impact on the conversion rate or the mean time spent on the page, then E-News express does not have to prioritize or cater to any specific language rather than just allow users to choose their preferred language like they already do\n",
    "\n",
    "\n",
    "3. All time and investments should be put into the new landing page as it gives E-News Express the best chance to succeed and gain new subscribers\n"
   ]
  },
  {
   "cell_type": "code",
   "execution_count": null,
   "id": "4e1f87f3",
   "metadata": {},
   "outputs": [],
   "source": []
  }
 ],
 "metadata": {
  "kernelspec": {
   "display_name": "Python 3",
   "language": "python",
   "name": "python3"
  },
  "language_info": {
   "codemirror_mode": {
    "name": "ipython",
    "version": 3
   },
   "file_extension": ".py",
   "mimetype": "text/x-python",
   "name": "python",
   "nbconvert_exporter": "python",
   "pygments_lexer": "ipython3",
   "version": "3.8.8"
  }
 },
 "nbformat": 4,
 "nbformat_minor": 5
}
